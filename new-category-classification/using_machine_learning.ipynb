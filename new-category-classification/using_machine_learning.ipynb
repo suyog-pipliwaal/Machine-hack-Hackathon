{
 "cells": [
  {
   "cell_type": "code",
   "execution_count": 59,
   "id": "f74c3f7e",
   "metadata": {},
   "outputs": [],
   "source": [
    "import pandas as pd\n",
    "import numpy as np\n",
    "from time import time\n",
    "from sklearn.model_selection import train_test_split\n",
    "import matplotlib.pyplot as plt\n",
    "from sklearn.svm import LinearSVC\n",
    "from sklearn.tree import DecisionTreeClassifier\n",
    "from sklearn.metrics import confusion_matrix, ConfusionMatrixDisplay, classification_report\n",
    "from sklearn.feature_extraction import text\n",
    "from sklearn.linear_model import LogisticRegression, SGDClassifier\n",
    "from sklearn.naive_bayes import ComplementNB\n",
    "from sklearn.neighbors import KNeighborsClassifier, NearestCentroid\n",
    "from sklearn.ensemble import RandomForestClassifier\n",
    "from sklearn.linear_model import RidgeClassifier\n"
   ]
  },
  {
   "cell_type": "code",
   "execution_count": 60,
   "id": "0bbe6142",
   "metadata": {},
   "outputs": [],
   "source": [
    "data_set_file = \"./Participants_Data_News_category/Data_train.xlsx\"\n",
    "labels = {\"Politics\": 0,\"Technology\": 1, \"Entertainment\": 2, \"Business\": 3}\n",
    "dataset = pd.read_excel(data_set_file)"
   ]
  },
  {
   "cell_type": "code",
   "execution_count": 61,
   "id": "c2529b7d",
   "metadata": {},
   "outputs": [
    {
     "data": {
      "text/plain": [
       "Text(0.5, 1.0, 'Class Distribution')"
      ]
     },
     "execution_count": 61,
     "metadata": {},
     "output_type": "execute_result"
    },
    {
     "data": {
      "image/png": "[encoded data removed]",
      "text/plain": [
       "<Figure size 360x360 with 1 Axes>"
      ]
     },
     "metadata": {
      "needs_background": "light"
     },
     "output_type": "display_data"
    }
   ],
   "source": [
    "plt.figure(figsize=(5,5))\n",
    "dataset['SECTION'].value_counts().plot(kind='bar')\n",
    "plt.xticks([0,1,2,3],[\"Politics\", \"Technology\", \"Entertainment\", \"Business\"])\n",
    "plt.ylabel('number of samples')\n",
    "plt.title(\"Class Distribution\")"
   ]
  },
  {
   "cell_type": "code",
   "execution_count": 62,
   "id": "64fe210d",
   "metadata": {},
   "outputs": [],
   "source": [
    "def to_vector(dataset):\n",
    "    train, test = train_test_split(dataset, test_size=0.2)\n",
    "    t0 = time()\n",
    "    vectorizer = text.TfidfVectorizer(sublinear_tf=True, max_df=0.5, min_df=5, stop_words=\"english\")\n",
    "    X_train = vectorizer.fit_transform(train.STORY.tolist())\n",
    "    y_train = np.array(train.SECTION.tolist())\n",
    "    duration_train = time()-t0\n",
    "\n",
    "    t0 = time()\n",
    "    X_test = vectorizer.transform(test.STORY.tolist())\n",
    "    y_test = np.array(test.SECTION.tolist())\n",
    "    duration_test = time()-t0\n",
    "\n",
    "\n",
    "    feature_name = vectorizer.get_feature_names_out()\n",
    "    print(f\"{len(dataset.SECTION)} documents \")\n",
    "    print(f\"vectorize training done in {duration_train:.3f}s\")\n",
    "    print(f\"n_samples: {X_train.shape[0]}, n_features: {X_train.shape[1]}\")\n",
    "\n",
    "    print(f\"vectorize testing done in {duration_test:.3f}s\")\n",
    "    print(f\"n_samples: {X_test.shape[0]}, n_features: {X_test.shape[1]}\")\n",
    "\n",
    "    return X_train, y_train, X_test, y_test, feature_name\n",
    "    "
   ]
  },
  {
   "cell_type": "code",
   "execution_count": 63,
   "id": "9953e939",
   "metadata": {},
   "outputs": [
    {
     "name": "stdout",
     "output_type": "stream",
     "text": [
      "7628 documents \n",
      "vectorize training done in 0.252s\n",
      "n_samples: 6102, n_features: 8433\n",
      "vectorize testing done in 0.056s\n",
      "n_samples: 1526, n_features: 8433\n"
     ]
    }
   ],
   "source": [
    "X_train, y_train, X_test, y_test, feature_name = to_vector(dataset)"
   ]
  },
  {
   "cell_type": "code",
   "execution_count": 64,
   "id": "4c9b767a",
   "metadata": {},
   "outputs": [
    {
     "name": "stdout",
     "output_type": "stream",
     "text": [
      "              precision    recall  f1-score   support\n",
      "\n",
      "         0.0       0.98      0.95      0.96       359\n",
      "         1.0       0.98      0.99      0.98       534\n",
      "         2.0       0.98      0.97      0.97       397\n",
      "         3.0       0.96      0.99      0.97       236\n",
      "\n",
      "    accuracy                           0.97      1526\n",
      "   macro avg       0.97      0.97      0.97      1526\n",
      "weighted avg       0.97      0.97      0.97      1526\n",
      "\n",
      "\n"
     ]
    },
    {
     "data": {
      "image/png": "[encoded data removed]",
      "text/plain": [
       "<Figure size 720x360 with 2 Axes>"
      ]
     },
     "metadata": {
      "needs_background": "light"
     },
     "output_type": "display_data"
    }
   ],
   "source": [
    "clf = RidgeClassifier(tol=1e-2, solver=\"sparse_cg\")\n",
    "clf.fit(X_train, y_train)\n",
    "pred = clf.predict(X_test)\n",
    "fig, ax = plt.subplots(figsize=(10,5))\n",
    "_ = ax.set_title(f\"Confusion Matrix for {clf.__class__.__name__}\\non the original documents\")\n",
    "ConfusionMatrixDisplay.from_predictions(y_test, pred, ax=ax)\n",
    "print(f\"{classification_report(y_test,pred,zero_division=0)}\\n\")\n"
   ]
  },
  {
   "cell_type": "code",
   "execution_count": 70,
   "id": "55502028",
   "metadata": {},
   "outputs": [],
   "source": [
    "from sklearn.utils.extmath import density\n",
    "from sklearn import metrics\n",
    "def benchmark_models(clf, custom_name=False):\n",
    "    print(\"_\"*80)\n",
    "    print(\"Training: \")\n",
    "    print(clf)\n",
    "    t0 = time()\n",
    "    clf.fit(X_train, y_train)\n",
    "    train_time = time()-t0\n",
    "    print(f\"Training time :{train_time:.3}s\")\n",
    "\n",
    "    t0 = time()\n",
    "    pred =  clf.predict(X_test)\n",
    "    test_time = time()-t0\n",
    "    print(f\"Testing time :{test_time:.3}s\")\n",
    "\n",
    "    accuracy = metrics.accuracy_score(y_true=y_test, y_pred=pred)\n",
    "    f1_score = metrics.f1_score(y_true=y_test, y_pred=pred, average='micro')\n",
    "    print(f\"accuracy: {accuracy:.3}\")\n",
    "    print(f\"f1 score: {f1_score:.3}\")\n",
    "    \n",
    "    if hasattr(clf, \"coef_\"):\n",
    "        print(f\"dimensionality: {clf.coef_.shape[1]}\")\n",
    "        print(f\"density: {density(clf.coef_)}\")\n",
    "        print()\n",
    "    \n",
    "    clf_descr = clf.__class__.__name__\n",
    "\n",
    "    return clf_descr, accuracy, train_time, test_time"
   ]
  },
  {
   "cell_type": "code",
   "execution_count": 73,
   "id": "2454e894",
   "metadata": {},
   "outputs": [
    {
     "name": "stdout",
     "output_type": "stream",
     "text": [
      "================================================================================\n",
      "Logistic Regression\n",
      "________________________________________________________________________________\n",
      "Training: \n",
      "LogisticRegression(C=5, max_iter=1000)\n",
      "Training time :0.578s\n",
      "Testing time :0.000698s\n",
      "accuracy: 0.972\n",
      "f1 score: 0.972\n",
      "dimensionality: 8433\n",
      "density: 1.0\n",
      "\n",
      "================================================================================\n",
      "Ridge Classifier\n",
      "________________________________________________________________________________\n",
      "Training: \n",
      "RidgeClassifier(solver='sparse_cg')\n",
      "Training time :0.0401s\n",
      "Testing time :0.000487s\n",
      "accuracy: 0.974\n",
      "f1 score: 0.974\n",
      "dimensionality: 8433\n",
      "density: 1.0\n",
      "\n",
      "================================================================================\n",
      "KNN\n",
      "________________________________________________________________________________\n",
      "Training: \n",
      "KNeighborsClassifier(n_neighbors=100)\n",
      "Training time :0.000909s\n",
      "Testing time :0.25s\n",
      "accuracy: 0.955\n",
      "f1 score: 0.955\n",
      "================================================================================\n",
      "Random Forset\n",
      "________________________________________________________________________________\n",
      "Training: \n",
      "RandomForestClassifier()\n",
      "Training time :1.05s\n",
      "Testing time :0.0357s\n",
      "accuracy: 0.949\n",
      "f1 score: 0.949\n",
      "================================================================================\n",
      "Linear SVC\n",
      "________________________________________________________________________________\n",
      "Training: \n",
      "LinearSVC(dual=False)\n",
      "Training time :0.0576s\n",
      "Testing time :0.000392s\n",
      "accuracy: 0.978\n",
      "f1 score: 0.978\n",
      "dimensionality: 8433\n",
      "density: 1.0\n",
      "\n",
      "================================================================================\n",
      "SDGclassifier with log loss\n",
      "________________________________________________________________________________\n",
      "Training: \n",
      "SGDClassifier(early_stopping=True, n_iter_no_change=3)\n",
      "Training time :0.0219s\n",
      "Testing time :0.000504s\n",
      "accuracy: 0.976\n",
      "f1 score: 0.976\n",
      "dimensionality: 8433\n",
      "density: 0.8068599549389304\n",
      "\n",
      "================================================================================\n",
      "NearestCentroid\n",
      "________________________________________________________________________________\n",
      "Training: \n",
      "NearestCentroid()\n",
      "Training time :0.00295s\n",
      "Testing time :0.00077s\n",
      "accuracy: 0.942\n",
      "f1 score: 0.942\n",
      "================================================================================\n",
      "Complement naive Bayes\n",
      "________________________________________________________________________________\n",
      "Training: \n",
      "ComplementNB()\n",
      "Training time :0.00264s\n",
      "Testing time :0.000457s\n",
      "accuracy: 0.965\n",
      "f1 score: 0.965\n",
      "dimensionality: 8433\n",
      "density: 1.0\n",
      "\n",
      "================================================================================\n",
      "Decision Tree Classifier \n",
      "________________________________________________________________________________\n",
      "Training: \n",
      "DecisionTreeClassifier()\n"
     ]
    },
    {
     "name": "stderr",
     "output_type": "stream",
     "text": [
      "/Users/suyog/miniforge3/envs/pyt_m1/lib/python3.9/site-packages/sklearn/utils/deprecation.py:103: FutureWarning: Attribute `coef_` was deprecated in version 0.24 and will be removed in 1.1 (renaming of 0.26).\n",
      "  warnings.warn(msg, category=FutureWarning)\n"
     ]
    },
    {
     "name": "stdout",
     "output_type": "stream",
     "text": [
      "Training time :0.411s\n",
      "Testing time :0.000612s\n",
      "accuracy: 0.855\n",
      "f1 score: 0.855\n"
     ]
    }
   ],
   "source": [
    "\n",
    "result = []\n",
    "for clf, name in (\n",
    "    (LogisticRegression(C=5, max_iter=1000), \"Logistic Regression\"),\n",
    "    (RidgeClassifier(alpha=1.0, solver=\"sparse_cg\"),\"Ridge Classifier\"), \n",
    "    (KNeighborsClassifier(n_neighbors=100),\"KNN\"),\n",
    "    (RandomForestClassifier(),\"Random Forset\"),\n",
    "    (LinearSVC(C=1.0, dual=False, max_iter=1000), \"Linear SVC\"),\n",
    "    (SGDClassifier(loss=\"hinge\", alpha=1e-4, n_iter_no_change=3, early_stopping=True), \"SDGclassifier with log loss\"),\n",
    "    (NearestCentroid(), \"NearestCentroid\"),\n",
    "    (ComplementNB(alpha=1.0), \"Complement naive Bayes\"),\n",
    "    (DecisionTreeClassifier(), \"Decision Tree Classifier \")\n",
    "    ):\n",
    "    print(\"=\"*80)\n",
    "    print(name)\n",
    "    result.append(benchmark_models(clf,name))"
   ]
  }
 ],
 "metadata": {
  "interpreter": {
   "hash": "9099866a55b0e312ca0077572bc9bb933b9e6638e13fbce911401cd4a0fffe65"
  },
  "kernelspec": {
   "display_name": "Python 3.9.10 ('pyt_m1')",
   "language": "python",
   "name": "python3"
  },
  "language_info": {
   "codemirror_mode": {
    "name": "ipython",
    "version": 3
   },
   "file_extension": ".py",
   "mimetype": "text/x-python",
   "name": "python",
   "nbconvert_exporter": "python",
   "pygments_lexer": "ipython3",
   "version": "3.9.10"
  }
 },
 "nbformat": 4,
 "nbformat_minor": 5
}
