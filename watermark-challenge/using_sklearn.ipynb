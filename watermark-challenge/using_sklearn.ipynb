{
 "cells": [
  {
   "cell_type": "code",
   "execution_count": null,
   "metadata": {},
   "outputs": [],
   "source": [
    "import pandas as pd\n",
    "import numpy as np\n",
    "from time import time\n",
    "from sklearn.model_selection import train_test_split\n",
    "import matplotlib.pyplot as plt\n",
    "from sklearn.svm import LinearSVC\n",
    "from sklearn.tree import DecisionTreeClassifier\n",
    "from sklearn.metrics import confusion_matrix, ConfusionMatrixDisplay, classification_report, accuracy_score\n",
    "from sklearn.feature_extraction import text\n",
    "from sklearn.linear_model import LogisticRegression, SGDClassifier\n",
    "from sklearn.naive_bayes import ComplementNB\n",
    "from sklearn.neighbors import KNeighborsClassifier, NearestCentroid\n",
    "from sklearn.ensemble import RandomForestClassifier\n",
    "from sklearn.linear_model import RidgeClassifier\n",
    "from skimage.io import imread\n",
    "from skimage.transform import resize\n",
    "from skimage.color import rgb2gray\n",
    "import os"
   ]
  },
  {
   "cell_type": "code",
   "execution_count": null,
   "metadata": {},
   "outputs": [],
   "source": [
    "data_set_file = \"./Participants_Data_TWC/train.csv\"\n",
    "dataset = pd.read_csv(data_set_file)\n",
    "dataset.head(10)"
   ]
  },
  {
   "cell_type": "code",
   "execution_count": null,
   "metadata": {},
   "outputs": [],
   "source": [
    "plt.figure(figsize=(5,5))\n",
    "print(dataset['Label'].value_counts())\n",
    "dataset['Label'].value_counts().plot(kind='bar')\n",
    "plt.xticks([0,1],[\"No Watermark\", \"Watermark\"])\n",
    "plt.ylabel('number of samples')\n",
    "plt.title(\"Class Distribution\")"
   ]
  },
  {
   "cell_type": "code",
   "execution_count": null,
   "metadata": {},
   "outputs": [],
   "source": [
    "\n",
    "def to_vector(dataset):\n",
    "    train, test = train_test_split(dataset, test_size=0.2)\n",
    "    X_train = []\n",
    "    y_train = []\n",
    "    t0 = time()\n",
    "    for image, target in zip(train.Image.tolist(), train.Label.tolist()):\n",
    "        img_array = imread(os.path.join('./Participants_Data_TWC/train',image))\n",
    "        X_train.append(img_array.flatten())\n",
    "        y_train.append(target)\n",
    "    X_train = np.array(X_train)\n",
    "    y_train = np.array(y_train)\n",
    "    duration_train = time()-t0\n",
    "    \n",
    "    \n",
    "    t0 = time()\n",
    "    X_test = []\n",
    "    y_test = []\n",
    "    for image, target in zip(test.Image.tolist(), test.Label.tolist()):\n",
    "        img_array = imread(os.path.join('./Participants_Data_TWC/train',image))\n",
    "        X_test.append(img_array.flatten())\n",
    "        y_test.append(target)\n",
    "    \n",
    "    X_test = np.array(X_test)\n",
    "    y_test = np.array(y_test)\n",
    "    \n",
    "    duration_test = time()-t0\n",
    "\n",
    "    # feature_name = vectorizer.get_feature_names_out()\n",
    "    print(f\"{len(dataset.Image)} documents \")\n",
    "    print(f\"vectorize training done in {duration_train:.3f}s\")\n",
    "    print(f\"n_samples: {X_train.shape[0]}, n_features: {X_train.shape[1]}\")\n",
    "\n",
    "    print(f\"vectorize testing done in {duration_test:.3f}s\")\n",
    "    print(f\"n_samples: {X_test.shape[0]}, n_features: {X_test.shape[1]}\")\n",
    "\n",
    "    return X_train, y_train, X_test, y_test\n"
   ]
  },
  {
   "cell_type": "code",
   "execution_count": null,
   "metadata": {},
   "outputs": [],
   "source": [
    "X_train, y_train, X_test, y_test = to_vector(dataset=dataset)"
   ]
  },
  {
   "cell_type": "code",
   "execution_count": null,
   "metadata": {},
   "outputs": [],
   "source": [
    "clf = RidgeClassifier(tol=1e-2, solver=\"sparse_cg\")\n",
    "clf.fit(X_train, y_train)\n"
   ]
  },
  {
   "cell_type": "code",
   "execution_count": null,
   "metadata": {},
   "outputs": [],
   "source": [
    "pred = clf.predict(X_test)\n",
    "print(\"accuracy_score :- \", accuracy_score(y_test, pred))\n",
    "fig, ax = plt.subplots(figsize=(10,5))\n",
    "_ = ax.set_title(f\"Confusion Matrix for {clf.__class__.__name__}\\non the original documents\")\n",
    "ConfusionMatrixDisplay.from_predictions(y_test, pred, ax=ax)\n",
    "print(f\"{classification_report(y_test,pred,zero_division=0)}\\n\")"
   ]
  },
  {
   "cell_type": "code",
   "execution_count": null,
   "metadata": {},
   "outputs": [],
   "source": []
  }
 ],
 "metadata": {
  "interpreter": {
   "hash": "9099866a55b0e312ca0077572bc9bb933b9e6638e13fbce911401cd4a0fffe65"
  },
  "kernelspec": {
   "display_name": "Python 3.9.10 ('pyt_m1')",
   "language": "python",
   "name": "python3"
  },
  "language_info": {
   "codemirror_mode": {
    "name": "ipython",
    "version": 3
   },
   "file_extension": ".py",
   "mimetype": "text/x-python",
   "name": "python",
   "nbconvert_exporter": "python",
   "pygments_lexer": "ipython3",
   "version": "3.11.4"
  },
  "orig_nbformat": 4
 },
 "nbformat": 4,
 "nbformat_minor": 2
}
